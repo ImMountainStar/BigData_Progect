{
 "cells": [
  {
   "cell_type": "markdown",
   "metadata": {
    "id": "l4VU6bQhYHE_"
   },
   "source": [
    "# 다중공선성 확인을 위한 회귀분석\n",
    "\n",
    "종속변수 (Y) : 월별 자동차 판매량\n",
    "\n",
    "독립변수(X):\n",
    "\n",
    "\n",
    "그룹 1 소비자 심리):\n",
    "차량 구매에 대한 소비자의 심리를 나타내는 지표\n",
    "- 월별 Google Trend (RAV4 월별 Google 검색량)\n",
    "- 월별 소비자 신뢰 지수 (University of Michigan Consumer Sentiment Index )\n",
    ": 소비자들이 경제 상황에 대해 느끼는 감정. 낙관적인지 비관적인지. 숫자가 높을 수록 시장 성장에 대해 낙관적인 감정.\n",
    "\n",
    "그룹 2: 리뷰 데이터\n",
    "- Edmund, Car.com에서 수집한 Toyota RAV4 소비자 리뷰\n",
    "- 연 단위  JD Power (RAV4에 대한 10점 척도 점수, 실 사용자가 매긴 평점)\n",
    "\n",
    "그룹 3: 거시 경제 지표 :\n",
    "자동차 구매 시 소비자의 실제 경제 상황을 나타내는 지표들\n",
    "- 분기별 Median usual weekly nominal earnings\n",
    "- 월별 실업률 Unemployment Rate\n",
    "- 월별 휘발유 가격\n",
    "- 월별 금리\n",
    "\n",
    "그룹 3: 시장 변수 :\n",
    ": 자동차 시장에 대한 지표 (판매량, 소비자 수의 증감)  \n",
    "- 월별 인구 수 (미국의 인구 증가에 성인 이상의 이민자가 기여하는 비율이 높음)\n",
    "- 월별 전체 자동차 판매량\n",
    "- 경쟁 모델 월별 판매량 (Honda CR-V)\n",
    "- 경쟁 모델 월별 판매량 (Chevrolet Equinox)     \n",
    "\n",
    "그룹 4: 기타  \n",
    "- 연  단위 RAV4 차량 가격\n",
    "\n",
    "\n",
    "\n",
    "\n"
   ]
  },
  {
   "cell_type": "markdown",
   "metadata": {
    "id": "6LQhJMjbnCq6"
   },
   "source": [
    ": Ravo4 (미국시장)의 경우 고객이 해당 차량을 주문한 이후 인도받는데까지 시간이 소요되지 않고, 당일에 바로 가능함   \n",
    "-> 종속 변수와 독립변수간의 시간 차이를 두지 않음"
   ]
  },
  {
   "cell_type": "markdown",
   "metadata": {
    "id": "sOXQQOY5oZJJ"
   },
   "source": [
    "## 분석 과정\n",
    "\n",
    "1. 월별 자동차 판매량 데이터 불러오기\n",
    "2. 감성분석 결과 -> 월별 감성점수 계산\n",
    "  - 감성점수(sentiment_prediction)을 독립변수로 추가\n",
    "3. 독립변수 + 종속변수 데이터 병합\n",
    "\n",
    "4. 회귀분석 -> 다중공선성 검토\n",
    "5. 변수 선택 및 새로운 변수 생성\n",
    "6. 최종 변수로 다중공선성 재검토"
   ]
  },
  {
   "cell_type": "code",
   "execution_count": 75,
   "metadata": {
    "executionInfo": {
     "elapsed": 1218,
     "status": "ok",
     "timestamp": 1718257790421,
     "user": {
      "displayName": "임산별",
      "userId": "10138838153877398849"
     },
     "user_tz": -540
    },
    "id": "tS7xQsBYnAhF"
   },
   "outputs": [],
   "source": [
    "import pandas as pd"
   ]
  },
  {
   "cell_type": "code",
   "execution_count": 77,
   "metadata": {
    "executionInfo": {
     "elapsed": 2738,
     "status": "ok",
     "timestamp": 1718257794191,
     "user": {
      "displayName": "임산별",
      "userId": "10138838153877398849"
     },
     "user_tz": -540
    },
    "id": "lld5XpYJrpqv"
   },
   "outputs": [],
   "source": [
    "# 고객 리뷰 감성 점수 불러오기\n",
    "reviews = pd.read_excel('data/sentiment_1.xlsx')"
   ]
  },
  {
   "cell_type": "code",
   "execution_count": 79,
   "metadata": {
    "colab": {
     "base_uri": "https://localhost:8080/"
    },
    "executionInfo": {
     "elapsed": 1437,
     "status": "ok",
     "timestamp": 1718257916682,
     "user": {
      "displayName": "임산별",
      "userId": "10138838153877398849"
     },
     "user_tz": -540
    },
    "id": "rqeUpEoCsBur",
    "outputId": "ce8c7e4c-0edd-44a1-9e52-4f85bb2d9418"
   },
   "outputs": [
    {
     "name": "stderr",
     "output_type": "stream",
     "text": [
      "/var/folders/3g/tlt8qmcx1nj7kqtx38v8dw380000gn/T/ipykernel_19819/801452899.py:1: DtypeWarning: Columns (0,1,10,11) have mixed types. Specify dtype option on import or set low_memory=False.\n",
      "  data = pd.read_csv('data/RAV4_data.csv')\n"
     ]
    }
   ],
   "source": [
    "data = pd.read_csv('data/RAV4_data.csv')"
   ]
  },
  {
   "cell_type": "code",
   "execution_count": 81,
   "metadata": {
    "scrolled": true
   },
   "outputs": [
    {
     "data": {
      "text/html": [
       "<div>\n",
       "<style scoped>\n",
       "    .dataframe tbody tr th:only-of-type {\n",
       "        vertical-align: middle;\n",
       "    }\n",
       "\n",
       "    .dataframe tbody tr th {\n",
       "        vertical-align: top;\n",
       "    }\n",
       "\n",
       "    .dataframe thead th {\n",
       "        text-align: right;\n",
       "    }\n",
       "</style>\n",
       "<table border=\"1\" class=\"dataframe\">\n",
       "  <thead>\n",
       "    <tr style=\"text-align: right;\">\n",
       "      <th></th>\n",
       "      <th>Date</th>\n",
       "      <th>RAV4 Sales</th>\n",
       "      <th>Google Trend</th>\n",
       "      <th>JD Power</th>\n",
       "      <th>Population in Milion</th>\n",
       "      <th>Consumer Sentiment</th>\n",
       "      <th>Federal Funds Effective Rate</th>\n",
       "      <th>Median usual weekly real earnings</th>\n",
       "      <th>Unemployment Rate</th>\n",
       "      <th>Gas Price</th>\n",
       "      <th>Competitor Sales (Honda CR-V)</th>\n",
       "      <th>Competitor Sales (Chevrolet Equinox)</th>\n",
       "      <th>Total Vehicle Sales (In milions)</th>\n",
       "      <th>Price (MSRP)</th>\n",
       "    </tr>\n",
       "  </thead>\n",
       "  <tbody>\n",
       "    <tr>\n",
       "      <th>0</th>\n",
       "      <td>Jan-10</td>\n",
       "      <td>7,894</td>\n",
       "      <td>23.0</td>\n",
       "      <td>84</td>\n",
       "      <td>308706.0</td>\n",
       "      <td>74.4</td>\n",
       "      <td>0.11</td>\n",
       "      <td>344.0</td>\n",
       "      <td>9.8</td>\n",
       "      <td>2.71500</td>\n",
       "      <td>9,672</td>\n",
       "      <td>9,513</td>\n",
       "      <td>10.893</td>\n",
       "      <td>24,943</td>\n",
       "    </tr>\n",
       "    <tr>\n",
       "      <th>1</th>\n",
       "      <td>Feb-10</td>\n",
       "      <td>6,799</td>\n",
       "      <td>20.0</td>\n",
       "      <td>84</td>\n",
       "      <td>308904.0</td>\n",
       "      <td>73.6</td>\n",
       "      <td>0.13</td>\n",
       "      <td>344.0</td>\n",
       "      <td>9.8</td>\n",
       "      <td>2.64400</td>\n",
       "      <td>11,828</td>\n",
       "      <td>8,061</td>\n",
       "      <td>10.315</td>\n",
       "      <td>24,943</td>\n",
       "    </tr>\n",
       "    <tr>\n",
       "      <th>2</th>\n",
       "      <td>Mar-10</td>\n",
       "      <td>25,781</td>\n",
       "      <td>24.0</td>\n",
       "      <td>84</td>\n",
       "      <td>309095.0</td>\n",
       "      <td>73.6</td>\n",
       "      <td>0.16</td>\n",
       "      <td>344.0</td>\n",
       "      <td>9.9</td>\n",
       "      <td>2.77160</td>\n",
       "      <td>14,848</td>\n",
       "      <td>12,805</td>\n",
       "      <td>11.772</td>\n",
       "      <td>24,943</td>\n",
       "    </tr>\n",
       "    <tr>\n",
       "      <th>3</th>\n",
       "      <td>Apr-10</td>\n",
       "      <td>14,851</td>\n",
       "      <td>20.0</td>\n",
       "      <td>84</td>\n",
       "      <td>309289.0</td>\n",
       "      <td>72.2</td>\n",
       "      <td>0.20</td>\n",
       "      <td>342.0</td>\n",
       "      <td>9.9</td>\n",
       "      <td>2.84825</td>\n",
       "      <td>16,661</td>\n",
       "      <td>11,987</td>\n",
       "      <td>11.454</td>\n",
       "      <td>24,943</td>\n",
       "    </tr>\n",
       "    <tr>\n",
       "      <th>4</th>\n",
       "      <td>May-10</td>\n",
       "      <td>13,102</td>\n",
       "      <td>21.0</td>\n",
       "      <td>84</td>\n",
       "      <td>309485.0</td>\n",
       "      <td>73.6</td>\n",
       "      <td>0.20</td>\n",
       "      <td>342.0</td>\n",
       "      <td>9.6</td>\n",
       "      <td>2.83620</td>\n",
       "      <td>17,820</td>\n",
       "      <td>13,134</td>\n",
       "      <td>12.030</td>\n",
       "      <td>24,943</td>\n",
       "    </tr>\n",
       "  </tbody>\n",
       "</table>\n",
       "</div>"
      ],
      "text/plain": [
       "     Date RAV4 Sales  Google Trend JD Power  Population in Milion  \\\n",
       "0  Jan-10      7,894          23.0       84              308706.0   \n",
       "1  Feb-10      6,799          20.0       84              308904.0   \n",
       "2  Mar-10     25,781          24.0       84              309095.0   \n",
       "3  Apr-10     14,851          20.0       84              309289.0   \n",
       "4  May-10     13,102          21.0       84              309485.0   \n",
       "\n",
       "   Consumer Sentiment  Federal Funds Effective Rate  \\\n",
       "0                74.4                          0.11   \n",
       "1                73.6                          0.13   \n",
       "2                73.6                          0.16   \n",
       "3                72.2                          0.20   \n",
       "4                73.6                          0.20   \n",
       "\n",
       "   Median usual weekly real earnings  Unemployment Rate  Gas Price  \\\n",
       "0                              344.0                9.8    2.71500   \n",
       "1                              344.0                9.8    2.64400   \n",
       "2                              344.0                9.9    2.77160   \n",
       "3                              342.0                9.9    2.84825   \n",
       "4                              342.0                9.6    2.83620   \n",
       "\n",
       "  Competitor Sales (Honda CR-V) Competitor Sales (Chevrolet Equinox)  \\\n",
       "0                         9,672                                9,513   \n",
       "1                        11,828                                8,061   \n",
       "2                        14,848                               12,805   \n",
       "3                        16,661                               11,987   \n",
       "4                        17,820                               13,134   \n",
       "\n",
       "   Total Vehicle Sales (In milions) Price (MSRP)  \n",
       "0                            10.893       24,943  \n",
       "1                            10.315       24,943  \n",
       "2                            11.772       24,943  \n",
       "3                            11.454       24,943  \n",
       "4                            12.030       24,943  "
      ]
     },
     "execution_count": 81,
     "metadata": {},
     "output_type": "execute_result"
    }
   ],
   "source": [
    "data.head()"
   ]
  },
  {
   "cell_type": "code",
   "execution_count": 83,
   "metadata": {},
   "outputs": [
    {
     "name": "stdout",
     "output_type": "stream",
     "text": [
      "<class 'pandas.core.frame.DataFrame'>\n",
      "RangeIndex: 1032360 entries, 0 to 1032359\n",
      "Data columns (total 14 columns):\n",
      " #   Column                                Non-Null Count  Dtype  \n",
      "---  ------                                --------------  -----  \n",
      " 0   Date                                  168 non-null    object \n",
      " 1   RAV4 Sales                            168 non-null    object \n",
      " 2   Google Trend                          168 non-null    float64\n",
      " 3   JD Power                              10815 non-null  object \n",
      " 4   Population in Milion                  168 non-null    float64\n",
      " 5   Consumer Sentiment                    168 non-null    float64\n",
      " 6   Federal Funds Effective Rate          168 non-null    float64\n",
      " 7   Median usual weekly real earnings     168 non-null    float64\n",
      " 8   Unemployment Rate                     168 non-null    float64\n",
      " 9   Gas Price                             168 non-null    float64\n",
      " 10  Competitor Sales (Honda CR-V)         168 non-null    object \n",
      " 11  Competitor Sales (Chevrolet Equinox)  168 non-null    object \n",
      " 12  Total Vehicle Sales (In milions)      168 non-null    float64\n",
      " 13  Price (MSRP)                          10815 non-null  object \n",
      "dtypes: float64(8), object(6)\n",
      "memory usage: 110.3+ MB\n"
     ]
    }
   ],
   "source": [
    "data.info()"
   ]
  },
  {
   "cell_type": "code",
   "execution_count": 85,
   "metadata": {
    "executionInfo": {
     "elapsed": 1187,
     "status": "ok",
     "timestamp": 1718257923369,
     "user": {
      "displayName": "임산별",
      "userId": "10138838153877398849"
     },
     "user_tz": -540
    },
    "id": "lemtVq4BxRHx"
   },
   "outputs": [],
   "source": [
    "#Date를 year_month로 바꾸기\n",
    "data['year_month'] = pd.to_datetime(data['Date'], format=\"%b-%y\")\n",
    "\n",
    "\n",
    "#Date 행 삭제\n",
    "data = data.drop(columns=['Date'])\n",
    "\n",
    "#year_month에 day는 제외시키기\n",
    "data['year_month'] = data['year_month'].dt.to_period('M')"
   ]
  },
  {
   "cell_type": "code",
   "execution_count": 87,
   "metadata": {
    "executionInfo": {
     "elapsed": 750,
     "status": "ok",
     "timestamp": 1718257927105,
     "user": {
      "displayName": "임산별",
      "userId": "10138838153877398849"
     },
     "user_tz": -540
    },
    "id": "d9I60fVCS__c"
   },
   "outputs": [],
   "source": [
    "cols = ['year_month'] + [col for col in data.columns if col != 'year_month']\n",
    "data = data[cols]"
   ]
  },
  {
   "cell_type": "code",
   "execution_count": 89,
   "metadata": {
    "executionInfo": {
     "elapsed": 338,
     "status": "ok",
     "timestamp": 1718257934167,
     "user": {
      "displayName": "임산별",
      "userId": "10138838153877398849"
     },
     "user_tz": -540
    },
    "id": "M3jH5D2a28d-"
   },
   "outputs": [],
   "source": [
    "#data 2023년 12월 이후 데이터 삭제\n",
    "data = data[data['year_month'] <'2024-01']\n"
   ]
  },
  {
   "cell_type": "code",
   "execution_count": 91,
   "metadata": {
    "colab": {
     "base_uri": "https://localhost:8080/",
     "height": 201
    },
    "executionInfo": {
     "elapsed": 518,
     "status": "ok",
     "timestamp": 1718257948356,
     "user": {
      "displayName": "임산별",
      "userId": "10138838153877398849"
     },
     "user_tz": -540
    },
    "id": "LIvxXK_R3hGB",
    "outputId": "7a3cbf1c-12d4-46b1-cdee-db74320bf2b8"
   },
   "outputs": [
    {
     "data": {
      "text/html": [
       "<div>\n",
       "<style scoped>\n",
       "    .dataframe tbody tr th:only-of-type {\n",
       "        vertical-align: middle;\n",
       "    }\n",
       "\n",
       "    .dataframe tbody tr th {\n",
       "        vertical-align: top;\n",
       "    }\n",
       "\n",
       "    .dataframe thead th {\n",
       "        text-align: right;\n",
       "    }\n",
       "</style>\n",
       "<table border=\"1\" class=\"dataframe\">\n",
       "  <thead>\n",
       "    <tr style=\"text-align: right;\">\n",
       "      <th></th>\n",
       "      <th>year_month</th>\n",
       "      <th>RAV4 Sales</th>\n",
       "      <th>Google Trend</th>\n",
       "      <th>JD Power</th>\n",
       "      <th>Population in Milion</th>\n",
       "      <th>Consumer Sentiment</th>\n",
       "      <th>Federal Funds Effective Rate</th>\n",
       "      <th>Median usual weekly real earnings</th>\n",
       "      <th>Unemployment Rate</th>\n",
       "      <th>Gas Price</th>\n",
       "      <th>Competitor Sales (Honda CR-V)</th>\n",
       "      <th>Competitor Sales (Chevrolet Equinox)</th>\n",
       "      <th>Total Vehicle Sales (In milions)</th>\n",
       "      <th>Price (MSRP)</th>\n",
       "    </tr>\n",
       "  </thead>\n",
       "  <tbody>\n",
       "    <tr>\n",
       "      <th>0</th>\n",
       "      <td>2010-01</td>\n",
       "      <td>7,894</td>\n",
       "      <td>23.0</td>\n",
       "      <td>84</td>\n",
       "      <td>308706.0</td>\n",
       "      <td>74.4</td>\n",
       "      <td>0.11</td>\n",
       "      <td>344.0</td>\n",
       "      <td>9.8</td>\n",
       "      <td>2.715</td>\n",
       "      <td>9,672</td>\n",
       "      <td>9,513</td>\n",
       "      <td>10.893</td>\n",
       "      <td>24,943</td>\n",
       "    </tr>\n",
       "    <tr>\n",
       "      <th>1</th>\n",
       "      <td>2010-02</td>\n",
       "      <td>6,799</td>\n",
       "      <td>20.0</td>\n",
       "      <td>84</td>\n",
       "      <td>308904.0</td>\n",
       "      <td>73.6</td>\n",
       "      <td>0.13</td>\n",
       "      <td>344.0</td>\n",
       "      <td>9.8</td>\n",
       "      <td>2.644</td>\n",
       "      <td>11,828</td>\n",
       "      <td>8,061</td>\n",
       "      <td>10.315</td>\n",
       "      <td>24,943</td>\n",
       "    </tr>\n",
       "  </tbody>\n",
       "</table>\n",
       "</div>"
      ],
      "text/plain": [
       "  year_month RAV4 Sales  Google Trend JD Power  Population in Milion  \\\n",
       "0    2010-01      7,894          23.0       84              308706.0   \n",
       "1    2010-02      6,799          20.0       84              308904.0   \n",
       "\n",
       "   Consumer Sentiment  Federal Funds Effective Rate  \\\n",
       "0                74.4                          0.11   \n",
       "1                73.6                          0.13   \n",
       "\n",
       "   Median usual weekly real earnings  Unemployment Rate  Gas Price  \\\n",
       "0                              344.0                9.8      2.715   \n",
       "1                              344.0                9.8      2.644   \n",
       "\n",
       "  Competitor Sales (Honda CR-V) Competitor Sales (Chevrolet Equinox)  \\\n",
       "0                         9,672                                9,513   \n",
       "1                        11,828                                8,061   \n",
       "\n",
       "   Total Vehicle Sales (In milions) Price (MSRP)  \n",
       "0                            10.893       24,943  \n",
       "1                            10.315       24,943  "
      ]
     },
     "execution_count": 91,
     "metadata": {},
     "output_type": "execute_result"
    }
   ],
   "source": [
    "data.head(2)"
   ]
  },
  {
   "cell_type": "code",
   "execution_count": 93,
   "metadata": {
    "executionInfo": {
     "elapsed": 313,
     "status": "ok",
     "timestamp": 1718257950986,
     "user": {
      "displayName": "임산별",
      "userId": "10138838153877398849"
     },
     "user_tz": -540
    },
    "id": "Ed6s9r8Csj05"
   },
   "outputs": [],
   "source": [
    "#월별 감성 점수 계산\n",
    "reviews['date'] = pd.to_datetime(reviews['date'])"
   ]
  },
  {
   "cell_type": "code",
   "execution_count": 95,
   "metadata": {
    "executionInfo": {
     "elapsed": 4,
     "status": "ok",
     "timestamp": 1718257954085,
     "user": {
      "displayName": "임산별",
      "userId": "10138838153877398849"
     },
     "user_tz": -540
    },
    "id": "xay0G-lzs4tJ"
   },
   "outputs": [],
   "source": [
    "# 년-월로 그룹화하여 긍정 리뷰 비율 계산\n",
    "reviews['year_month'] = reviews['date'].dt.to_period('M')\n",
    "sentiment = reviews.groupby('year_month')['sentiment_prediction'].mean().reset_index()\n",
    "\n",
    "# 월별 감성 점수를 dataframe으로 변환\n",
    "sentiment['year_month'] = sentiment['year_month'].astype(str)\n",
    "\n",
    "#monthly_sentiment 2024년의 행 제거\n",
    "sentiment = sentiment[sentiment['year_month'] <'2024-01']"
   ]
  },
  {
   "cell_type": "code",
   "execution_count": 97,
   "metadata": {
    "colab": {
     "base_uri": "https://localhost:8080/",
     "height": 206
    },
    "executionInfo": {
     "elapsed": 292,
     "status": "ok",
     "timestamp": 1718257960601,
     "user": {
      "displayName": "임산별",
      "userId": "10138838153877398849"
     },
     "user_tz": -540
    },
    "id": "DS_acjFXg-nV",
    "outputId": "cd32ecf7-5754-4649-ebf9-605f73ffeb28"
   },
   "outputs": [
    {
     "data": {
      "text/html": [
       "<div>\n",
       "<style scoped>\n",
       "    .dataframe tbody tr th:only-of-type {\n",
       "        vertical-align: middle;\n",
       "    }\n",
       "\n",
       "    .dataframe tbody tr th {\n",
       "        vertical-align: top;\n",
       "    }\n",
       "\n",
       "    .dataframe thead th {\n",
       "        text-align: right;\n",
       "    }\n",
       "</style>\n",
       "<table border=\"1\" class=\"dataframe\">\n",
       "  <thead>\n",
       "    <tr style=\"text-align: right;\">\n",
       "      <th></th>\n",
       "      <th>year_month</th>\n",
       "      <th>sentiment_prediction</th>\n",
       "    </tr>\n",
       "  </thead>\n",
       "  <tbody>\n",
       "    <tr>\n",
       "      <th>0</th>\n",
       "      <td>2010-01</td>\n",
       "      <td>1.0</td>\n",
       "    </tr>\n",
       "    <tr>\n",
       "      <th>1</th>\n",
       "      <td>2010-02</td>\n",
       "      <td>1.0</td>\n",
       "    </tr>\n",
       "    <tr>\n",
       "      <th>2</th>\n",
       "      <td>2010-03</td>\n",
       "      <td>1.0</td>\n",
       "    </tr>\n",
       "    <tr>\n",
       "      <th>3</th>\n",
       "      <td>2010-04</td>\n",
       "      <td>1.0</td>\n",
       "    </tr>\n",
       "    <tr>\n",
       "      <th>4</th>\n",
       "      <td>2010-05</td>\n",
       "      <td>1.0</td>\n",
       "    </tr>\n",
       "  </tbody>\n",
       "</table>\n",
       "</div>"
      ],
      "text/plain": [
       "  year_month  sentiment_prediction\n",
       "0    2010-01                   1.0\n",
       "1    2010-02                   1.0\n",
       "2    2010-03                   1.0\n",
       "3    2010-04                   1.0\n",
       "4    2010-05                   1.0"
      ]
     },
     "execution_count": 97,
     "metadata": {},
     "output_type": "execute_result"
    }
   ],
   "source": [
    "sentiment.head()"
   ]
  },
  {
   "cell_type": "code",
   "execution_count": 99,
   "metadata": {
    "executionInfo": {
     "elapsed": 419,
     "status": "ok",
     "timestamp": 1718257966166,
     "user": {
      "displayName": "임산별",
      "userId": "10138838153877398849"
     },
     "user_tz": -540
    },
    "id": "XqqFbrzmiC3g"
   },
   "outputs": [],
   "source": [
    "# Creating the full date range from 2010-01 to 2023-12\n",
    "full_date_range = pd.date_range(start='2010-01-01', end='2023-12-01', freq='MS').strftime('%Y-%m')\n",
    "\n",
    "# Create a DataFrame with the full date range\n",
    "df_full_date_range = pd.DataFrame(full_date_range, columns=['year_month'])"
   ]
  },
  {
   "cell_type": "code",
   "execution_count": 101,
   "metadata": {
    "executionInfo": {
     "elapsed": 447,
     "status": "ok",
     "timestamp": 1718257991979,
     "user": {
      "displayName": "임산별",
      "userId": "10138838153877398849"
     },
     "user_tz": -540
    },
    "id": "1AM47inPiHCm"
   },
   "outputs": [],
   "source": [
    "# Merge to find missing dates and fill with NaN where necessary\n",
    "df_complete_sentiment = pd.merge(df_full_date_range, sentiment, on='year_month', how='left')\n",
    "\n",
    "# Ensure the year_month columns in both DataFrames are of the same type (string)\n",
    "data['year_month'] = data['year_month'].astype(str)\n",
    "df_complete_sentiment['year_month'] = df_complete_sentiment['year_month'].astype(str)\n",
    "\n",
    "# Merge the data DataFrame with the complete sentiment DataFrame\n",
    "merged_data = pd.merge(data, df_complete_sentiment, on='year_month', how='left')"
   ]
  },
  {
   "cell_type": "code",
   "execution_count": 103,
   "metadata": {
    "colab": {
     "base_uri": "https://localhost:8080/",
     "height": 327
    },
    "executionInfo": {
     "elapsed": 469,
     "status": "ok",
     "timestamp": 1718257994621,
     "user": {
      "displayName": "임산별",
      "userId": "10138838153877398849"
     },
     "user_tz": -540
    },
    "id": "eSE7t7Q_iaLP",
    "outputId": "f4df6dd0-ef98-46b1-f21e-fa4d2b3b8e06"
   },
   "outputs": [
    {
     "data": {
      "text/html": [
       "<div>\n",
       "<style scoped>\n",
       "    .dataframe tbody tr th:only-of-type {\n",
       "        vertical-align: middle;\n",
       "    }\n",
       "\n",
       "    .dataframe tbody tr th {\n",
       "        vertical-align: top;\n",
       "    }\n",
       "\n",
       "    .dataframe thead th {\n",
       "        text-align: right;\n",
       "    }\n",
       "</style>\n",
       "<table border=\"1\" class=\"dataframe\">\n",
       "  <thead>\n",
       "    <tr style=\"text-align: right;\">\n",
       "      <th></th>\n",
       "      <th>year_month</th>\n",
       "      <th>RAV4 Sales</th>\n",
       "      <th>Google Trend</th>\n",
       "      <th>JD Power</th>\n",
       "      <th>Population in Milion</th>\n",
       "      <th>Consumer Sentiment</th>\n",
       "      <th>Federal Funds Effective Rate</th>\n",
       "      <th>Median usual weekly real earnings</th>\n",
       "      <th>Unemployment Rate</th>\n",
       "      <th>Gas Price</th>\n",
       "      <th>Competitor Sales (Honda CR-V)</th>\n",
       "      <th>Competitor Sales (Chevrolet Equinox)</th>\n",
       "      <th>Total Vehicle Sales (In milions)</th>\n",
       "      <th>Price (MSRP)</th>\n",
       "      <th>sentiment_prediction</th>\n",
       "    </tr>\n",
       "  </thead>\n",
       "  <tbody>\n",
       "    <tr>\n",
       "      <th>0</th>\n",
       "      <td>2010-01</td>\n",
       "      <td>7,894</td>\n",
       "      <td>23.0</td>\n",
       "      <td>84</td>\n",
       "      <td>308706.0</td>\n",
       "      <td>74.4</td>\n",
       "      <td>0.11</td>\n",
       "      <td>344.0</td>\n",
       "      <td>9.8</td>\n",
       "      <td>2.71500</td>\n",
       "      <td>9,672</td>\n",
       "      <td>9,513</td>\n",
       "      <td>10.893</td>\n",
       "      <td>24,943</td>\n",
       "      <td>1.0</td>\n",
       "    </tr>\n",
       "    <tr>\n",
       "      <th>1</th>\n",
       "      <td>2010-02</td>\n",
       "      <td>6,799</td>\n",
       "      <td>20.0</td>\n",
       "      <td>84</td>\n",
       "      <td>308904.0</td>\n",
       "      <td>73.6</td>\n",
       "      <td>0.13</td>\n",
       "      <td>344.0</td>\n",
       "      <td>9.8</td>\n",
       "      <td>2.64400</td>\n",
       "      <td>11,828</td>\n",
       "      <td>8,061</td>\n",
       "      <td>10.315</td>\n",
       "      <td>24,943</td>\n",
       "      <td>1.0</td>\n",
       "    </tr>\n",
       "    <tr>\n",
       "      <th>2</th>\n",
       "      <td>2010-03</td>\n",
       "      <td>25,781</td>\n",
       "      <td>24.0</td>\n",
       "      <td>84</td>\n",
       "      <td>309095.0</td>\n",
       "      <td>73.6</td>\n",
       "      <td>0.16</td>\n",
       "      <td>344.0</td>\n",
       "      <td>9.9</td>\n",
       "      <td>2.77160</td>\n",
       "      <td>14,848</td>\n",
       "      <td>12,805</td>\n",
       "      <td>11.772</td>\n",
       "      <td>24,943</td>\n",
       "      <td>1.0</td>\n",
       "    </tr>\n",
       "    <tr>\n",
       "      <th>3</th>\n",
       "      <td>2010-04</td>\n",
       "      <td>14,851</td>\n",
       "      <td>20.0</td>\n",
       "      <td>84</td>\n",
       "      <td>309289.0</td>\n",
       "      <td>72.2</td>\n",
       "      <td>0.20</td>\n",
       "      <td>342.0</td>\n",
       "      <td>9.9</td>\n",
       "      <td>2.84825</td>\n",
       "      <td>16,661</td>\n",
       "      <td>11,987</td>\n",
       "      <td>11.454</td>\n",
       "      <td>24,943</td>\n",
       "      <td>1.0</td>\n",
       "    </tr>\n",
       "    <tr>\n",
       "      <th>4</th>\n",
       "      <td>2010-05</td>\n",
       "      <td>13,102</td>\n",
       "      <td>21.0</td>\n",
       "      <td>84</td>\n",
       "      <td>309485.0</td>\n",
       "      <td>73.6</td>\n",
       "      <td>0.20</td>\n",
       "      <td>342.0</td>\n",
       "      <td>9.6</td>\n",
       "      <td>2.83620</td>\n",
       "      <td>17,820</td>\n",
       "      <td>13,134</td>\n",
       "      <td>12.030</td>\n",
       "      <td>24,943</td>\n",
       "      <td>1.0</td>\n",
       "    </tr>\n",
       "    <tr>\n",
       "      <th>5</th>\n",
       "      <td>2010-06</td>\n",
       "      <td>12,573</td>\n",
       "      <td>22.0</td>\n",
       "      <td>84</td>\n",
       "      <td>309691.0</td>\n",
       "      <td>76.0</td>\n",
       "      <td>0.18</td>\n",
       "      <td>342.0</td>\n",
       "      <td>9.4</td>\n",
       "      <td>2.73150</td>\n",
       "      <td>16,041</td>\n",
       "      <td>11,490</td>\n",
       "      <td>11.598</td>\n",
       "      <td>24,943</td>\n",
       "      <td>NaN</td>\n",
       "    </tr>\n",
       "  </tbody>\n",
       "</table>\n",
       "</div>"
      ],
      "text/plain": [
       "  year_month RAV4 Sales  Google Trend JD Power  Population in Milion  \\\n",
       "0    2010-01      7,894          23.0       84              308706.0   \n",
       "1    2010-02      6,799          20.0       84              308904.0   \n",
       "2    2010-03     25,781          24.0       84              309095.0   \n",
       "3    2010-04     14,851          20.0       84              309289.0   \n",
       "4    2010-05     13,102          21.0       84              309485.0   \n",
       "5    2010-06     12,573          22.0       84              309691.0   \n",
       "\n",
       "   Consumer Sentiment  Federal Funds Effective Rate  \\\n",
       "0                74.4                          0.11   \n",
       "1                73.6                          0.13   \n",
       "2                73.6                          0.16   \n",
       "3                72.2                          0.20   \n",
       "4                73.6                          0.20   \n",
       "5                76.0                          0.18   \n",
       "\n",
       "   Median usual weekly real earnings  Unemployment Rate  Gas Price  \\\n",
       "0                              344.0                9.8    2.71500   \n",
       "1                              344.0                9.8    2.64400   \n",
       "2                              344.0                9.9    2.77160   \n",
       "3                              342.0                9.9    2.84825   \n",
       "4                              342.0                9.6    2.83620   \n",
       "5                              342.0                9.4    2.73150   \n",
       "\n",
       "  Competitor Sales (Honda CR-V) Competitor Sales (Chevrolet Equinox)  \\\n",
       "0                         9,672                                9,513   \n",
       "1                        11,828                                8,061   \n",
       "2                        14,848                               12,805   \n",
       "3                        16,661                               11,987   \n",
       "4                        17,820                               13,134   \n",
       "5                        16,041                               11,490   \n",
       "\n",
       "   Total Vehicle Sales (In milions) Price (MSRP)  sentiment_prediction  \n",
       "0                            10.893       24,943                   1.0  \n",
       "1                            10.315       24,943                   1.0  \n",
       "2                            11.772       24,943                   1.0  \n",
       "3                            11.454       24,943                   1.0  \n",
       "4                            12.030       24,943                   1.0  \n",
       "5                            11.598       24,943                   NaN  "
      ]
     },
     "execution_count": 103,
     "metadata": {},
     "output_type": "execute_result"
    }
   ],
   "source": [
    "merged_data[:6]"
   ]
  },
  {
   "cell_type": "code",
   "execution_count": 105,
   "metadata": {
    "executionInfo": {
     "elapsed": 388,
     "status": "ok",
     "timestamp": 1718258001853,
     "user": {
      "displayName": "임산별",
      "userId": "10138838153877398849"
     },
     "user_tz": -540
    },
    "id": "PbQ1Wh187B5N"
   },
   "outputs": [],
   "source": [
    "#sentiment_prediction에서 결측값을 0으로 채워넣기\n",
    "merged_data['sentiment_prediction'] = merged_data['sentiment_prediction'].fillna(0)"
   ]
  },
  {
   "cell_type": "code",
   "execution_count": 107,
   "metadata": {
    "executionInfo": {
     "elapsed": 312,
     "status": "ok",
     "timestamp": 1718258012754,
     "user": {
      "displayName": "임산별",
      "userId": "10138838153877398849"
     },
     "user_tz": -540
    },
    "id": "VuxPfKfS881k"
   },
   "outputs": [],
   "source": [
    "# 쉼표 제거 및 데이터 타입 변환\n",
    "merged_data['RAV4 Sales'] = merged_data['RAV4 Sales'].str.replace(',', '').astype(float)\n",
    "merged_data['Competitor Sales (Honda CR-V)'] = merged_data['Competitor Sales (Honda CR-V)'].str.replace(',', '').astype(float)\n",
    "merged_data['Competitor Sales (Chevrolet Equinox)'] = merged_data['Competitor Sales (Chevrolet Equinox)'].str.replace(',', '').astype(float)\n",
    "merged_data['Price (MSRP)'] = merged_data['Price (MSRP)'].str.replace(',', '').astype(float)"
   ]
  },
  {
   "cell_type": "code",
   "execution_count": 109,
   "metadata": {
    "colab": {
     "base_uri": "https://localhost:8080/"
    },
    "executionInfo": {
     "elapsed": 2,
     "status": "ok",
     "timestamp": 1718258014282,
     "user": {
      "displayName": "임산별",
      "userId": "10138838153877398849"
     },
     "user_tz": -540
    },
    "id": "1WLCwHLv8QZ1",
    "outputId": "fcf2d360-6825-4173-9172-e2f3c3c0d387"
   },
   "outputs": [
    {
     "data": {
      "text/plain": [
       "year_month                               object\n",
       "RAV4 Sales                              float64\n",
       "Google Trend                            float64\n",
       "JD Power                                 object\n",
       "Population in Milion                    float64\n",
       "Consumer Sentiment                      float64\n",
       "Federal Funds Effective Rate            float64\n",
       "Median usual weekly real earnings       float64\n",
       "Unemployment Rate                       float64\n",
       "Gas Price                               float64\n",
       "Competitor Sales (Honda CR-V)           float64\n",
       "Competitor Sales (Chevrolet Equinox)    float64\n",
       "Total Vehicle Sales (In milions)        float64\n",
       "Price (MSRP)                            float64\n",
       "sentiment_prediction                    float64\n",
       "dtype: object"
      ]
     },
     "execution_count": 109,
     "metadata": {},
     "output_type": "execute_result"
    }
   ],
   "source": [
    "#데이터별 타입 확인\n",
    "merged_data.dtypes"
   ]
  },
  {
   "cell_type": "code",
   "execution_count": 159,
   "metadata": {},
   "outputs": [
    {
     "name": "stdout",
     "output_type": "stream",
     "text": [
      "<class 'pandas.core.frame.DataFrame'>\n",
      "RangeIndex: 168 entries, 0 to 167\n",
      "Data columns (total 15 columns):\n",
      " #   Column                                Non-Null Count  Dtype  \n",
      "---  ------                                --------------  -----  \n",
      " 0   year_month                            168 non-null    object \n",
      " 1   RAV4 Sales                            168 non-null    float64\n",
      " 2   Google Trend                          168 non-null    float64\n",
      " 3   JD Power                              168 non-null    object \n",
      " 4   Population in Milion                  168 non-null    float64\n",
      " 5   Consumer Sentiment                    168 non-null    float64\n",
      " 6   Federal Funds Effective Rate          168 non-null    float64\n",
      " 7   Median usual weekly real earnings     168 non-null    float64\n",
      " 8   Unemployment Rate                     168 non-null    float64\n",
      " 9   Gas Price                             168 non-null    float64\n",
      " 10  Competitor Sales (Honda CR-V)         168 non-null    float64\n",
      " 11  Competitor Sales (Chevrolet Equinox)  168 non-null    float64\n",
      " 12  Total Vehicle Sales (In milions)      168 non-null    float64\n",
      " 13  Price (MSRP)                          168 non-null    float64\n",
      " 14  sentiment_prediction                  168 non-null    float64\n",
      "dtypes: float64(13), object(2)\n",
      "memory usage: 19.8+ KB\n"
     ]
    }
   ],
   "source": [
    "merged_data.info()"
   ]
  },
  {
   "cell_type": "markdown",
   "metadata": {
    "id": "bPOLg8xO5iNo"
   },
   "source": [
    "## Check for Multicollinearity / 다중공선성 확인"
   ]
  },
  {
   "cell_type": "code",
   "execution_count": 112,
   "metadata": {
    "executionInfo": {
     "elapsed": 2290,
     "status": "ok",
     "timestamp": 1718258098507,
     "user": {
      "displayName": "임산별",
      "userId": "10138838153877398849"
     },
     "user_tz": -540
    },
    "id": "96zaAsuu36Rf"
   },
   "outputs": [],
   "source": [
    "import statsmodels.api as sm\n",
    "from statsmodels.stats.outliers_influence import variance_inflation_factor"
   ]
  },
  {
   "cell_type": "code",
   "execution_count": 114,
   "metadata": {
    "executionInfo": {
     "elapsed": 457,
     "status": "ok",
     "timestamp": 1718258099961,
     "user": {
      "displayName": "임산별",
      "userId": "10138838153877398849"
     },
     "user_tz": -540
    },
    "id": "HQBlvW-z6uz5"
   },
   "outputs": [],
   "source": [
    "# 독립변수 선택 (종속변수 'RAV4 Sales'는 제외)\n",
    "X = merged_data[['Google Trend', 'JD Power', 'Population in Milion', 'Consumer Sentiment', 'Federal Funds Effective Rate',\n",
    "        'Median usual weekly real earnings', 'Unemployment Rate', 'Gas Price', 'Competitor Sales (Honda CR-V)',\n",
    "        'Competitor Sales (Chevrolet Equinox)', 'Total Vehicle Sales (In milions)', 'Price (MSRP)', 'sentiment_prediction']]\n"
   ]
  },
  {
   "cell_type": "code",
   "execution_count": 116,
   "metadata": {
    "executionInfo": {
     "elapsed": 427,
     "status": "ok",
     "timestamp": 1718258101868,
     "user": {
      "displayName": "임산별",
      "userId": "10138838153877398849"
     },
     "user_tz": -540
    },
    "id": "UwPlWahs72Dk"
   },
   "outputs": [],
   "source": [
    "#데이터들을 숫자형으로 변환\n",
    "X = X.apply(pd.to_numeric, errors='coerce')"
   ]
  },
  {
   "cell_type": "code",
   "execution_count": 118,
   "metadata": {
    "colab": {
     "base_uri": "https://localhost:8080/"
    },
    "executionInfo": {
     "elapsed": 305,
     "status": "ok",
     "timestamp": 1718258103296,
     "user": {
      "displayName": "임산별",
      "userId": "10138838153877398849"
     },
     "user_tz": -540
    },
    "id": "1xbwLQQx7lLV",
    "outputId": "c8a490f3-9e96-443c-f3eb-dab5e5e5213a"
   },
   "outputs": [
    {
     "data": {
      "text/plain": [
       "Google Trend                            0\n",
       "JD Power                                0\n",
       "Population in Milion                    0\n",
       "Consumer Sentiment                      0\n",
       "Federal Funds Effective Rate            0\n",
       "Median usual weekly real earnings       0\n",
       "Unemployment Rate                       0\n",
       "Gas Price                               0\n",
       "Competitor Sales (Honda CR-V)           0\n",
       "Competitor Sales (Chevrolet Equinox)    0\n",
       "Total Vehicle Sales (In milions)        0\n",
       "Price (MSRP)                            0\n",
       "sentiment_prediction                    0\n",
       "dtype: int64"
      ]
     },
     "execution_count": 118,
     "metadata": {},
     "output_type": "execute_result"
    }
   ],
   "source": [
    "#X에 결측치가 있는지 확인\n",
    "X.isnull().sum()"
   ]
  },
  {
   "cell_type": "code",
   "execution_count": 120,
   "metadata": {
    "executionInfo": {
     "elapsed": 304,
     "status": "ok",
     "timestamp": 1718258108613,
     "user": {
      "displayName": "임산별",
      "userId": "10138838153877398849"
     },
     "user_tz": -540
    },
    "id": "nWw_WI9_6Fza"
   },
   "outputs": [],
   "source": [
    "# VIF 계산\n",
    "vif_data = pd.DataFrame()\n",
    "vif_data[\"feature\"] = X.columns\n",
    "vif_data[\"VIF\"] = [variance_inflation_factor(X.values, i) for i in range(len(X.columns))]"
   ]
  },
  {
   "cell_type": "code",
   "execution_count": 122,
   "metadata": {
    "colab": {
     "base_uri": "https://localhost:8080/"
    },
    "executionInfo": {
     "elapsed": 329,
     "status": "ok",
     "timestamp": 1718258110263,
     "user": {
      "displayName": "임산별",
      "userId": "10138838153877398849"
     },
     "user_tz": -540
    },
    "id": "1kTLOCvP9jVm",
    "outputId": "bc26185b-29a4-4b3e-b393-09685122df69"
   },
   "outputs": [
    {
     "name": "stdout",
     "output_type": "stream",
     "text": [
      "+----+--------------------------------------+-------------+\n",
      "|    | feature                              |         VIF |\n",
      "|----+--------------------------------------+-------------|\n",
      "|  0 | Google Trend                         |    91.0564  |\n",
      "|  1 | JD Power                             |  2231.18    |\n",
      "|  2 | Population in Milion                 | 24167.1     |\n",
      "|  3 | Consumer Sentiment                   |   223.564   |\n",
      "|  4 | Federal Funds Effective Rate         |     3.39046 |\n",
      "|  5 | Median usual weekly real earnings    | 20847.9     |\n",
      "|  6 | Unemployment Rate                    |    91.7945  |\n",
      "|  7 | Gas Price                            |   114.292   |\n",
      "|  8 | Competitor Sales (Honda CR-V)        |    42.8972  |\n",
      "|  9 | Competitor Sales (Chevrolet Equinox) |    32.2918  |\n",
      "| 10 | Total Vehicle Sales (In milions)     |   457.439   |\n",
      "| 11 | Price (MSRP)                         |  2058.11    |\n",
      "| 12 | sentiment_prediction                 |    43.1688  |\n",
      "+----+--------------------------------------+-------------+\n"
     ]
    }
   ],
   "source": [
    "from tabulate import tabulate\n",
    "print(tabulate(vif_data, headers='keys', tablefmt='psql'))"
   ]
  },
  {
   "cell_type": "markdown",
   "metadata": {
    "id": "OOPkaTrp9ujF"
   },
   "source": [
    "### 다중공선성 VIF 해석 기준\n",
    "\n",
    "\n",
    "*   **VIF < 5**: 다중공선성이 거의 없는 것으로 간주\n",
    "*   **5 <= VIF < 10**: 다중공선성이 있을 수 있지만 심각하지는 않음\n",
    "*   **VIF >= 10:** 다중공선성이 높음"
   ]
  },
  {
   "cell_type": "code",
   "execution_count": 125,
   "metadata": {
    "colab": {
     "base_uri": "https://localhost:8080/"
    },
    "executionInfo": {
     "elapsed": 298,
     "status": "ok",
     "timestamp": 1718258124314,
     "user": {
      "displayName": "임산별",
      "userId": "10138838153877398849"
     },
     "user_tz": -540
    },
    "id": "22fyMUWp-PAj",
    "outputId": "f0e27341-fa18-45c9-ccc3-c8f65937a33a"
   },
   "outputs": [
    {
     "name": "stdout",
     "output_type": "stream",
     "text": [
      "High Multicollinearity (VIF >= 10):\n",
      "+----+--------------------------------------+------------+\n",
      "|    | feature                              |        VIF |\n",
      "|----+--------------------------------------+------------|\n",
      "|  0 | Google Trend                         |    91.0564 |\n",
      "|  1 | JD Power                             |  2231.18   |\n",
      "|  2 | Population in Milion                 | 24167.1    |\n",
      "|  3 | Consumer Sentiment                   |   223.564  |\n",
      "|  5 | Median usual weekly real earnings    | 20847.9    |\n",
      "|  6 | Unemployment Rate                    |    91.7945 |\n",
      "|  7 | Gas Price                            |   114.292  |\n",
      "|  8 | Competitor Sales (Honda CR-V)        |    42.8972 |\n",
      "|  9 | Competitor Sales (Chevrolet Equinox) |    32.2918 |\n",
      "| 10 | Total Vehicle Sales (In milions)     |   457.439  |\n",
      "| 11 | Price (MSRP)                         |  2058.11   |\n",
      "| 12 | sentiment_prediction                 |    43.1688 |\n",
      "+----+--------------------------------------+------------+\n",
      "\n",
      "Moderate Multicollinearity (5 <= VIF < 10):\n",
      "+-----------+-------+\n",
      "| feature   | VIF   |\n",
      "|-----------+-------|\n",
      "+-----------+-------+\n",
      "\n",
      "Low Multicollinearity (VIF < 5):\n",
      "+----+------------------------------+---------+\n",
      "|    | feature                      |     VIF |\n",
      "|----+------------------------------+---------|\n",
      "|  4 | Federal Funds Effective Rate | 3.39046 |\n",
      "+----+------------------------------+---------+\n"
     ]
    }
   ],
   "source": [
    "# VIF report\n",
    "high_multicollinearity = vif_data[vif_data['VIF'] >= 10]\n",
    "moderate_multicollinearity = vif_data[(vif_data['VIF'] >= 5) & (vif_data['VIF'] < 10)]\n",
    "low_multicollinearity = vif_data[vif_data['VIF'] < 5]\n",
    "\n",
    "print(\"High Multicollinearity (VIF >= 10):\")\n",
    "print(tabulate(high_multicollinearity, headers='keys', tablefmt='psql'))\n",
    "print(\"\\nModerate Multicollinearity (5 <= VIF < 10):\")\n",
    "print(tabulate(moderate_multicollinearity, headers='keys', tablefmt='psql'))\n",
    "print(\"\\nLow Multicollinearity (VIF < 5):\")\n",
    "print(tabulate(low_multicollinearity, headers='keys', tablefmt='psql'))\n"
   ]
  },
  {
   "cell_type": "markdown",
   "metadata": {
    "id": "jYyFUp38k01D"
   },
   "source": [
    "## 다중공선성 해결을 위한 변수 제거\n"
   ]
  },
  {
   "cell_type": "code",
   "execution_count": 128,
   "metadata": {
    "id": "71VwsYmiLUAw"
   },
   "outputs": [],
   "source": [
    "import numpy as np\n",
    "from sklearn.decomposition import PCA\n",
    "from sklearn.preprocessing import StandardScaler"
   ]
  },
  {
   "cell_type": "code",
   "execution_count": 130,
   "metadata": {
    "executionInfo": {
     "elapsed": 380,
     "status": "ok",
     "timestamp": 1718258160944,
     "user": {
      "displayName": "임산별",
      "userId": "10138838153877398849"
     },
     "user_tz": -540
    },
    "id": "5SRtIhMqme-5"
   },
   "outputs": [],
   "source": [
    "#X 에서 populPopulation in Milion 제거\n",
    "X = X.drop(columns=['Population in Milion'])\n",
    "\n",
    "#X 에서 'Median usual weekly real earnings' 제거\n",
    "X = X.drop(columns=['Median usual weekly real earnings'])\n"
   ]
  },
  {
   "cell_type": "code",
   "execution_count": 132,
   "metadata": {
    "executionInfo": {
     "elapsed": 318,
     "status": "ok",
     "timestamp": 1718258165465,
     "user": {
      "displayName": "임산별",
      "userId": "10138838153877398849"
     },
     "user_tz": -540
    },
    "id": "7SGNMZubmrem"
   },
   "outputs": [],
   "source": [
    "# VIF 계산\n",
    "vif_data = pd.DataFrame()\n",
    "vif_data[\"feature\"] = X.columns\n",
    "vif_data[\"VIF\"] = [variance_inflation_factor(X.values, i) for i in range(len(X.columns))]"
   ]
  },
  {
   "cell_type": "code",
   "execution_count": 134,
   "metadata": {
    "colab": {
     "base_uri": "https://localhost:8080/"
    },
    "executionInfo": {
     "elapsed": 489,
     "status": "ok",
     "timestamp": 1718117534165,
     "user": {
      "displayName": "임산별",
      "userId": "10138838153877398849"
     },
     "user_tz": -540
    },
    "id": "_ZdLwQEamuFh",
    "outputId": "97f4d3df-4d92-4bf0-bc51-92dcc11822e1"
   },
   "outputs": [
    {
     "name": "stdout",
     "output_type": "stream",
     "text": [
      "+----+--------------------------------------+------------+\n",
      "|    | feature                              |        VIF |\n",
      "|----+--------------------------------------+------------|\n",
      "|  0 | Google Trend                         |   53.4702  |\n",
      "|  1 | JD Power                             | 1131.17    |\n",
      "|  2 | Consumer Sentiment                   |  191.847   |\n",
      "|  3 | Federal Funds Effective Rate         |    3.19848 |\n",
      "|  4 | Unemployment Rate                    |   28.2879  |\n",
      "|  5 | Gas Price                            |   49.0574  |\n",
      "|  6 | Competitor Sales (Honda CR-V)        |   40.3078  |\n",
      "|  7 | Competitor Sales (Chevrolet Equinox) |   32.0084  |\n",
      "|  8 | Total Vehicle Sales (In milions)     |  275.315   |\n",
      "|  9 | Price (MSRP)                         |  899.919   |\n",
      "| 10 | sentiment_prediction                 |   42.6366  |\n",
      "+----+--------------------------------------+------------+\n"
     ]
    }
   ],
   "source": [
    "from tabulate import tabulate\n",
    "print(tabulate(vif_data, headers='keys', tablefmt='psql'))"
   ]
  },
  {
   "cell_type": "code",
   "execution_count": 136,
   "metadata": {
    "executionInfo": {
     "elapsed": 314,
     "status": "ok",
     "timestamp": 1718258188163,
     "user": {
      "displayName": "임산별",
      "userId": "10138838153877398849"
     },
     "user_tz": -540
    },
    "id": "eIfC6Si85cvj"
   },
   "outputs": [],
   "source": [
    "X = X.drop(columns=['JD Power'])"
   ]
  },
  {
   "cell_type": "code",
   "execution_count": 138,
   "metadata": {
    "colab": {
     "base_uri": "https://localhost:8080/"
    },
    "executionInfo": {
     "elapsed": 692,
     "status": "ok",
     "timestamp": 1718258191962,
     "user": {
      "displayName": "임산별",
      "userId": "10138838153877398849"
     },
     "user_tz": -540
    },
    "id": "OZQ1AYbkbMwA",
    "outputId": "90c859e0-5456-4cd9-9395-8aeadd47490d"
   },
   "outputs": [
    {
     "name": "stdout",
     "output_type": "stream",
     "text": [
      "                               Variable         VIF\n",
      "0          Federal Funds Effective Rate    3.045608\n",
      "1                     Unemployment Rate   14.658000\n",
      "2                             Gas Price   26.540335\n",
      "3         Competitor Sales (Honda CR-V)   37.624838\n",
      "4  Competitor Sales (Chevrolet Equinox)   28.507704\n",
      "5      Total Vehicle Sales (In milions)  230.748905\n",
      "6                          Price (MSRP)  204.549997\n",
      "7                  sentiment_prediction   42.069757\n",
      "8                     Consumer_Interest    4.122419\n"
     ]
    }
   ],
   "source": [
    "#Goole Trend 와 Consumer Sentiment를 PCA로 합쳐서 새로운 변수 생성\n",
    "\n",
    "\n",
    "variables_for_pca = ['Google Trend', 'Consumer Sentiment']\n",
    "\n",
    "scaler = StandardScaler()\n",
    "scaled_data = scaler.fit_transform(X[variables_for_pca])\n",
    "\n",
    "pca = PCA(n_components=1)\n",
    "principal_component = pca.fit_transform(scaled_data)\n",
    "\n",
    "# Step 3: Add the new PCA variable back to X\n",
    "X['Consumer_Interest'] = principal_component\n",
    "\n",
    "# Step 4: Calculate VIF for each variable in the new dataframe\n",
    "# Dropping the original variables used in PCA to avoid multicollinearity in VIF calculation\n",
    "X_vif = X.drop(columns=variables_for_pca)\n",
    "\n",
    "# Calculate VIF\n",
    "vif_data = pd.DataFrame()\n",
    "vif_data['Variable'] = X_vif.columns\n",
    "vif_data['VIF'] = [variance_inflation_factor(X_vif.values, i) for i in range(X_vif.shape[1])]\n",
    "\n",
    "# Display VIF\n",
    "print(vif_data)"
   ]
  },
  {
   "cell_type": "code",
   "execution_count": 140,
   "metadata": {
    "colab": {
     "base_uri": "https://localhost:8080/"
    },
    "executionInfo": {
     "elapsed": 463,
     "status": "ok",
     "timestamp": 1718258222259,
     "user": {
      "displayName": "임산별",
      "userId": "10138838153877398849"
     },
     "user_tz": -540
    },
    "id": "JGBEmd8ajYG6",
    "outputId": "e209bce0-2065-4c51-cd14-3399012b4951"
   },
   "outputs": [],
   "source": [
    "\n",
    "# PCA on 'Competitor Sales (Honda CR-V)', 'Competitor Sales (Chevrolet Equinox)', 'Total Vehicle Sales (In milions)'\n",
    "additional_variables_for_pca = ['Competitor Sales (Honda CR-V)', 'Competitor Sales (Chevrolet Equinox)', 'Total Vehicle Sales (In milions)']\n",
    "\n",
    "# Scaling the data for additional PCA\n",
    "additional_scaled_data = scaler.fit_transform(X[additional_variables_for_pca])\n",
    "\n",
    "# Performing PCA\n",
    "additional_pca = PCA(n_components=1)\n",
    "additional_principal_component = additional_pca.fit_transform(additional_scaled_data)\n",
    "\n",
    "# Adding the new PCA variable back to X\n",
    "X['Competitor_Sales'] = additional_principal_component\n",
    "\n",
    "# Step 6: Perform PCA on 'Gas Price' and 'Price (MSRP)'\n",
    "gas_price_and_msrp = ['Gas Price', 'Price (MSRP)']\n",
    "\n",
    "# Scaling the data for PCA\n",
    "gas_msrp_scaled_data = scaler.fit_transform(X[gas_price_and_msrp])\n",
    "\n",
    "# Performing PCA\n",
    "gas_msrp_pca = PCA(n_components=1)\n",
    "gas_msrp_principal_component = gas_msrp_pca.fit_transform(gas_msrp_scaled_data)\n",
    "\n",
    "# Adding the new PCA variable back to X with a suitable name\n",
    "X['Price_Factor'] = gas_msrp_principal_component\n",
    "\n",
    "\n",
    "# Step 8: Calculate VIF for each variable in the new dataframe\n",
    "# Dropping the original variables used in PCA to avoid multicollinearity in VIF calculation\n",
    "X_vif = X.drop(columns=variables_for_pca + additional_variables_for_pca + gas_price_and_msrp)\n"
   ]
  },
  {
   "cell_type": "code",
   "execution_count": 142,
   "metadata": {
    "executionInfo": {
     "elapsed": 323,
     "status": "ok",
     "timestamp": 1718258392682,
     "user": {
      "displayName": "임산별",
      "userId": "10138838153877398849"
     },
     "user_tz": -540
    },
    "id": "18BbvwnCLjmI"
   },
   "outputs": [],
   "source": [
    "#Unemployment Rate 제거\n",
    "X_vif = X_vif.drop(columns=['Unemployment Rate'])"
   ]
  },
  {
   "cell_type": "code",
   "execution_count": 144,
   "metadata": {
    "colab": {
     "base_uri": "https://localhost:8080/"
    },
    "executionInfo": {
     "elapsed": 4,
     "status": "ok",
     "timestamp": 1718258393846,
     "user": {
      "displayName": "임산별",
      "userId": "10138838153877398849"
     },
     "user_tz": -540
    },
    "id": "zIEPPCTpLJpW",
    "outputId": "cc43dda2-36b6-4cdb-fb71-cdb9026d4a43"
   },
   "outputs": [
    {
     "name": "stdout",
     "output_type": "stream",
     "text": [
      "                       Variable       VIF\n",
      "0  Federal Funds Effective Rate  2.368529\n",
      "1          sentiment_prediction  1.713421\n",
      "2             Consumer_Interest  1.779507\n",
      "3              Competitor_Sales  1.543694\n",
      "4                  Price_Factor  1.329435\n"
     ]
    }
   ],
   "source": [
    "# VIF 재검토\n",
    "vif_data = pd.DataFrame()\n",
    "vif_data['Variable'] = X_vif.columns\n",
    "vif_data['VIF'] = [variance_inflation_factor(X_vif.values, i) for i in range(X_vif.shape[1])]\n",
    "\n",
    "\n",
    "print(vif_data)"
   ]
  },
  {
   "cell_type": "markdown",
   "metadata": {
    "id": "i9boWv5Rj9t2"
   },
   "source": [
    "# 최종 변수 목록:\n",
    "\n",
    "\n",
    "*   Federal Funds Effective Rate\n",
    "*   sentiment_prediction\n",
    "\n",
    "[새로운 변수]\n",
    "- Consumer_Interest (Google Trend와 Consumer Sentiment의 PCA 결합)\n",
    "- Competitor_Sales (Competitor Sales (Honda CR-V), Competitor Sales (Chevrolet Equinox), Total Vehicle Sales (In milions)의 PCA 결합)\n",
    "- Price_Factor (Gas Price와 Price (MSRP)의 PCA 결합)"
   ]
  },
  {
   "cell_type": "code",
   "execution_count": 148,
   "metadata": {
    "executionInfo": {
     "elapsed": 336,
     "status": "ok",
     "timestamp": 1718258432489,
     "user": {
      "displayName": "임산별",
      "userId": "10138838153877398849"
     },
     "user_tz": -540
    },
    "id": "ZVfGLdHDmL2j"
   },
   "outputs": [],
   "source": [
    "X_vif['year_month'] = merged_data['year_month']\n",
    "X_vif['RAV4 Sales'] = merged_data['RAV4 Sales']"
   ]
  },
  {
   "cell_type": "code",
   "execution_count": 150,
   "metadata": {
    "executionInfo": {
     "elapsed": 297,
     "status": "ok",
     "timestamp": 1718258434911,
     "user": {
      "displayName": "임산별",
      "userId": "10138838153877398849"
     },
     "user_tz": -540
    },
    "id": "D_xu5ONEmTCg"
   },
   "outputs": [],
   "source": [
    "columns = ['year_month', 'RAV4 Sales'] + [col for col in X_vif if col not in ['year_month', 'RAV4 Sales']]\n",
    "X_vif = X_vif[columns]"
   ]
  },
  {
   "cell_type": "code",
   "execution_count": 152,
   "metadata": {
    "colab": {
     "base_uri": "https://localhost:8080/",
     "height": 278
    },
    "executionInfo": {
     "elapsed": 483,
     "status": "ok",
     "timestamp": 1718119533034,
     "user": {
      "displayName": "임산별",
      "userId": "10138838153877398849"
     },
     "user_tz": -540
    },
    "id": "6NIPeEpQmddK",
    "outputId": "9b7e1e04-0fcb-441f-8e2d-fa613858f700"
   },
   "outputs": [
    {
     "data": {
      "text/html": [
       "<div>\n",
       "<style scoped>\n",
       "    .dataframe tbody tr th:only-of-type {\n",
       "        vertical-align: middle;\n",
       "    }\n",
       "\n",
       "    .dataframe tbody tr th {\n",
       "        vertical-align: top;\n",
       "    }\n",
       "\n",
       "    .dataframe thead th {\n",
       "        text-align: right;\n",
       "    }\n",
       "</style>\n",
       "<table border=\"1\" class=\"dataframe\">\n",
       "  <thead>\n",
       "    <tr style=\"text-align: right;\">\n",
       "      <th></th>\n",
       "      <th>year_month</th>\n",
       "      <th>RAV4 Sales</th>\n",
       "      <th>Federal Funds Effective Rate</th>\n",
       "      <th>sentiment_prediction</th>\n",
       "      <th>Consumer_Interest</th>\n",
       "      <th>Competitor_Sales</th>\n",
       "      <th>Price_Factor</th>\n",
       "    </tr>\n",
       "  </thead>\n",
       "  <tbody>\n",
       "    <tr>\n",
       "      <th>0</th>\n",
       "      <td>2010-01</td>\n",
       "      <td>7894.0</td>\n",
       "      <td>0.11</td>\n",
       "      <td>1.0</td>\n",
       "      <td>-0.452485</td>\n",
       "      <td>3.869561</td>\n",
       "      <td>-0.592358</td>\n",
       "    </tr>\n",
       "    <tr>\n",
       "      <th>1</th>\n",
       "      <td>2010-02</td>\n",
       "      <td>6799.0</td>\n",
       "      <td>0.13</td>\n",
       "      <td>1.0</td>\n",
       "      <td>-0.495998</td>\n",
       "      <td>3.995724</td>\n",
       "      <td>-0.511696</td>\n",
       "    </tr>\n",
       "    <tr>\n",
       "      <th>2</th>\n",
       "      <td>2010-03</td>\n",
       "      <td>25781.0</td>\n",
       "      <td>0.16</td>\n",
       "      <td>1.0</td>\n",
       "      <td>-0.380068</td>\n",
       "      <td>2.875564</td>\n",
       "      <td>-0.656660</td>\n",
       "    </tr>\n",
       "    <tr>\n",
       "      <th>3</th>\n",
       "      <td>2010-04</td>\n",
       "      <td>14851.0</td>\n",
       "      <td>0.20</td>\n",
       "      <td>1.0</td>\n",
       "      <td>-0.419988</td>\n",
       "      <td>2.895012</td>\n",
       "      <td>-0.743742</td>\n",
       "    </tr>\n",
       "    <tr>\n",
       "      <th>4</th>\n",
       "      <td>2010-05</td>\n",
       "      <td>13102.0</td>\n",
       "      <td>0.20</td>\n",
       "      <td>1.0</td>\n",
       "      <td>-0.467016</td>\n",
       "      <td>2.524651</td>\n",
       "      <td>-0.730052</td>\n",
       "    </tr>\n",
       "  </tbody>\n",
       "</table>\n",
       "</div>"
      ],
      "text/plain": [
       "  year_month  RAV4 Sales  Federal Funds Effective Rate  sentiment_prediction  \\\n",
       "0    2010-01      7894.0                          0.11                   1.0   \n",
       "1    2010-02      6799.0                          0.13                   1.0   \n",
       "2    2010-03     25781.0                          0.16                   1.0   \n",
       "3    2010-04     14851.0                          0.20                   1.0   \n",
       "4    2010-05     13102.0                          0.20                   1.0   \n",
       "\n",
       "   Consumer_Interest  Competitor_Sales  Price_Factor  \n",
       "0          -0.452485          3.869561     -0.592358  \n",
       "1          -0.495998          3.995724     -0.511696  \n",
       "2          -0.380068          2.875564     -0.656660  \n",
       "3          -0.419988          2.895012     -0.743742  \n",
       "4          -0.467016          2.524651     -0.730052  "
      ]
     },
     "execution_count": 152,
     "metadata": {},
     "output_type": "execute_result"
    }
   ],
   "source": [
    "final_data = X_vif.copy()\n",
    "final_data.head()"
   ]
  },
  {
   "cell_type": "code",
   "execution_count": 154,
   "metadata": {
    "id": "ZfQd8EK0ytus"
   },
   "outputs": [],
   "source": [
    "#엑셀 파일로 내보내기\n",
    "final_data.to_excel('final_data.xlsx', index=False)"
   ]
  },
  {
   "cell_type": "markdown",
   "metadata": {
    "id": "srrVabOQEcAP"
   },
   "source": [
    "\n",
    "\n",
    "---\n",
    "\n"
   ]
  }
 ],
 "metadata": {
  "colab": {
   "provenance": [
    {
     "file_id": "1eEugt5TC8qv_EDTdiRhe_dGyeMt-IbD6",
     "timestamp": 1718117101015
    }
   ]
  },
  "kernelspec": {
   "display_name": "Python 3 (ipykernel)",
   "language": "python",
   "name": "python3"
  },
  "language_info": {
   "codemirror_mode": {
    "name": "ipython",
    "version": 3
   },
   "file_extension": ".py",
   "mimetype": "text/x-python",
   "name": "python",
   "nbconvert_exporter": "python",
   "pygments_lexer": "ipython3",
   "version": "3.12.2"
  }
 },
 "nbformat": 4,
 "nbformat_minor": 4
}
